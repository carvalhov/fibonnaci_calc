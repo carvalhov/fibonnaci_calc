{
  "nbformat": 4,
  "nbformat_minor": 0,
  "metadata": {
    "colab": {
      "provenance": [],
      "include_colab_link": true
    },
    "kernelspec": {
      "name": "python3",
      "display_name": "Python 3"
    },
    "language_info": {
      "name": "python"
    }
  },
  "cells": [
    {
      "cell_type": "markdown",
      "metadata": {
        "id": "view-in-github",
        "colab_type": "text"
      },
      "source": [
        "<a href=\"https://colab.research.google.com/github/carvalhov/fibonnaci_calc/blob/main/fibonnaci.ipynb\" target=\"_parent\"><img src=\"https://colab.research.google.com/assets/colab-badge.svg\" alt=\"Open In Colab\"/></a>"
      ]
    },
    {
      "cell_type": "code",
      "source": [
        "#Vinicius Walison de Carvalho \n",
        "\n",
        "def fibonnaci(num: int):\n",
        "    fib = []\n",
        "    fib.append(0)\n",
        "    fib.append(1)\n",
        "    try:\n",
        "      for i in range(2, num+1):\n",
        "          fib.append(fib[i-2] + fib[i-1])\n",
        "    except:\n",
        "      print(\"Erro, valor precisa ser inteiro\")\n",
        "    return (fib[0:(num+1)])\n",
        "\n",
        "number = int(input(\"Digite um valor: \"))\n",
        "fibonnaci(number)\n"
      ],
      "metadata": {
        "colab": {
          "base_uri": "https://localhost:8080/"
        },
        "id": "yVBocUu4FWsr",
        "outputId": "4a770620-d4f2-4751-9440-3ca77997c351"
      },
      "execution_count": 124,
      "outputs": [
        {
          "name": "stdout",
          "output_type": "stream",
          "text": [
            "Digite um valor: 14\n"
          ]
        },
        {
          "output_type": "execute_result",
          "data": {
            "text/plain": [
              "[0, 1, 1, 2, 3, 5, 8, 13, 21, 34, 55, 89, 144, 233, 377]"
            ]
          },
          "metadata": {},
          "execution_count": 124
        }
      ]
    },
    {
      "cell_type": "code",
      "source": [
        "%%writefile test_func.py\n",
        "import pytest\n",
        "\n",
        "#Sequencia de fibonnaci\n",
        "def fibonnaci(num: int):\n",
        "    fib = []\n",
        "    fib.append(0)\n",
        "    fib.append(1)\n",
        "    for i in range(2, num+1):\n",
        "        fib.append(fib[i-2] + fib[i-1])\n",
        "    return (fib[0:(num+1)])\n",
        "\n",
        "#testes para a função \n",
        "\n",
        "def test_fib_0_equals_0():\n",
        "    assert fibonnaci(0) == [0]\n",
        "\n",
        "def test_fib_1_equals_1():\n",
        "    assert fibonnaci(1) == [0, 1]\n",
        "\n",
        "def test_fib_5_equals_5():\n",
        "    assert fibonnaci(5) == [0, 1, 1, 2, 3, 5]\n",
        "\n",
        "def test_fib_14_equals_377():\n",
        "    assert fibonnaci(14) == [0, 1, 1, 2, 3, 5, 8, 13, 21, 34, 55, 89, 144, 233, 377]\n",
        "\n"
      ],
      "metadata": {
        "colab": {
          "base_uri": "https://localhost:8080/"
        },
        "id": "9Qchhei9CCiq",
        "outputId": "96bd6b47-6c88-4fa0-e759-bca7eed13292"
      },
      "execution_count": 119,
      "outputs": [
        {
          "output_type": "stream",
          "name": "stdout",
          "text": [
            "Overwriting test_func.py\n"
          ]
        }
      ]
    },
    {
      "cell_type": "code",
      "source": [
        "! pytest test_func.py"
      ],
      "metadata": {
        "colab": {
          "base_uri": "https://localhost:8080/"
        },
        "id": "W95erB7tZLQs",
        "outputId": "1ad64fba-8b83-4800-cd79-1231981d7ff5"
      },
      "execution_count": 120,
      "outputs": [
        {
          "output_type": "stream",
          "name": "stdout",
          "text": [
            "\u001b[1m============================= test session starts ==============================\u001b[0m\n",
            "platform linux -- Python 3.7.14, pytest-3.6.4, py-1.11.0, pluggy-0.7.1\n",
            "rootdir: /content, inifile:\n",
            "plugins: typeguard-2.7.1\n",
            "\u001b[1m\rcollecting 0 items                                                             \u001b[0m\u001b[1m\rcollecting 4 items                                                             \u001b[0m\u001b[1m\rcollected 4 items                                                              \u001b[0m\n",
            "\n",
            "test_func.py ....\u001b[36m                                                        [100%]\u001b[0m\n",
            "\n",
            "\u001b[32m\u001b[1m=========================== 4 passed in 0.03 seconds ===========================\u001b[0m\n"
          ]
        }
      ]
    }
  ]
}